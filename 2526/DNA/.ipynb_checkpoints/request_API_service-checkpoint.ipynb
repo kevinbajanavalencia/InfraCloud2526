{
 "cells": [
  {
   "cell_type": "code",
   "execution_count": 3,
   "id": "42200569-a647-4242-ab10-f24302f1fd16",
   "metadata": {},
   "outputs": [
    {
     "name": "stdout",
     "output_type": "stream",
     "text": [
      "current date and time: \n",
      "2025-10-16 14:05:55.305823\n",
      "API Return Code: 200\n",
      "Request URI: https://sandboxdnac2.cisco.com/dna/system/api/v1/auth/token\n",
      "Username: devnetuser\n",
      "Received Token:\n",
      "eyJhbGciOiJFUzI1NiIsInR5cCI6IkpXVCJ9.eyJhY3RpdmVSRCI6IjliZjZiMjViMGM1ZTQwM2Q1MTc5ZmM5ZDQxZDViYWQ0ZjM4N2RjNDUiLCJhdWQiOiJDRE5BIiwiYXV0aFNvdXJjZSI6ImxlZ2FjeSIsImNsaWVudElkIjoiZGV2bmV0dXNlciIsImVtYWlsIjoiZGV2bmV0dXNlckBsb2NhbHVzZXIuY29tIiwiZXhwIjoxNzYwNjE5ODMyLCJpYXQiOjE3NjA2MTYyMzIsImlzcyI6ImRuYWMiLCJyZHMiOlsiOWJmNmIyNWIwYzVlNDAzZDUxNzlmYzlkNDFkNWJhZDRmMzg3ZGM0NSJdLCJyZXNvdXJjZUdyb3VwcyI6Ikg0c0lBQUFBQUFBQS80cXVWaW91U2c1S0xjNHZMVXBPOVV4UnNsTFNVdEpSS3Frc1NGV3lVaXJPTEVsVnFvMEZCQUFBLy8rY3ZYZktKUUFBQUE9PSIsInJvbGVzIjpbIk9CU0VSVkVSIl0sInNlc3Npb25JZCI6ImJkNGExYTViLWI1MDEtNWMxYy1hYjM3LTEyNzM2NTY2YmM1MCIsInN1YiI6IjY4NjU1MTAyYmI1YTZiMDAyNjVjNzE4YiIsInRlbmFudElkIjoiNjdiOTM1YzU5MTU1ZjUwMDEzNTE1ZDFjIiwidGVuYW50TmFtZSI6IlROVDAiLCJ1c2VybmFtZSI6ImRldm5ldHVzZXIifQ.OlMN579eJofcigN-hp1XcdsrQeHRm5j9AT5iL9XBRa7ATfDpUWhPiM5-UsL4WfM5T6BXhHWAfwuhFpvSQanqBg\n",
      "Length Token:\n",
      "842\n"
     ]
    },
    {
     "name": "stderr",
     "output_type": "stream",
     "text": [
      "C:\\Users\\kevin_u8x0lsh\\anaconda3\\Lib\\site-packages\\urllib3\\connectionpool.py:1099: InsecureRequestWarning: Unverified HTTPS request is being made to host 'sandboxdnac2.cisco.com'. Adding certificate verification is strongly advised. See: https://urllib3.readthedocs.io/en/latest/advanced-usage.html#tls-warnings\n",
      "  warnings.warn(\n"
     ]
    }
   ],
   "source": [
    "###Shorter version of the two previous cells\n",
    "###STEP 1 PREP\n",
    "import requests\n",
    "import datetime\n",
    "import json \n",
    "\n",
    "#Suppress credential warning for this exercise\n",
    "requests.packages.urllib3.disable_warnings\n",
    "print (\"current date and time: \")\n",
    "print(datetime.datetime.now())\n",
    "#HARD CODED VARIABLES\n",
    "DNAC_scheme = 'https://'\n",
    "DNAC_authority= 'sandboxdnac2.cisco.com'\n",
    "#DNAC_port='443'\n",
    "DNAC_path_token ='/dna/system/api/v1/auth/token'\n",
    "DNAC_path = '/dna/intent/api/v1/network-device'\n",
    "#DNAC_user = input (\"Username? (devnetuser)\")\n",
    "#DNAC_psw = input(\"password? (cisco123)!\")\n",
    "\n",
    "DNAC_user = \"devnetuser\"\n",
    "DNAC_psw = \"Cisco123!\"\n",
    "\n",
    "#STEP 2 TOKEN REQUEST\n",
    "token_req_url = DNAC_scheme+DNAC_authority+DNAC_path_token\n",
    "auth = (DNAC_user, DNAC_psw)\n",
    "req = requests.post(token_req_url, auth=auth, verify=False)\n",
    "print(\"API Return Code: \" + str(req.status_code))\n",
    "print('Request URI: ' + token_req_url)\n",
    "print(\"Username: \" + DNAC_user)\n",
    "resp = req.text\n",
    "token = req.json()[\"Token\"]\n",
    "print(\"Received Token:\")\n",
    "print(token)\n",
    "print(\"Length Token:\")\n",
    "print(len(token))\n",
    "\n",
    "#REQUEST API SERVICE (USING X-AUTH-TOKEN)  -- INVENTORY REQUEST\n",
    "import datetime\n",
    "print(\"Current date and time: \")\n",
    "print(datetime.datetime.now())"
   ]
  },
  {
   "cell_type": "code",
   "execution_count": null,
   "id": "9d95320a-61a6-4271-9cf0-e16cce1042b6",
   "metadata": {},
   "outputs": [],
   "source": []
  }
 ],
 "metadata": {
  "kernelspec": {
   "display_name": "Python 3 (ipykernel)",
   "language": "python",
   "name": "python3"
  },
  "language_info": {
   "codemirror_mode": {
    "name": "ipython",
    "version": 3
   },
   "file_extension": ".py",
   "mimetype": "text/x-python",
   "name": "python",
   "nbconvert_exporter": "python",
   "pygments_lexer": "ipython3",
   "version": "3.12.3"
  }
 },
 "nbformat": 4,
 "nbformat_minor": 5
}
