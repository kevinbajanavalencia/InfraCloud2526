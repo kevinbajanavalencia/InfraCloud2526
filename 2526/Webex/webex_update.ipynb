{
 "cells": [
  {
   "cell_type": "code",
   "execution_count": 1,
   "id": "581357d0-69e6-4550-899f-c3cfdf700cde",
   "metadata": {},
   "outputs": [],
   "source": [
    "import requests \n",
    "import json \n",
    "### Access Token 12 hours: https://developer.webex.com/docs/api/getting-started (login required)\n",
    "access_token = \"ZDJiNGNlOGEtNTU3Ni00NTM3LWJhMWEtODNmYmUyZTcxMDhkMTA1NDE2NDktMzJh_P0A1_a879d78e-a24c-4f98-9ff3-749547b904c8\""
   ]
  },
  {
   "cell_type": "code",
   "execution_count": 3,
   "id": "55f20d89-ffeb-4d76-87e5-da10e35a1e40",
   "metadata": {},
   "outputs": [
    {
     "name": "stdout",
     "output_type": "stream",
     "text": [
      "{'groups': [{'group': {'group_id': 'G1', 'group_name': 'GROUP_Test1', 'members': [{'person_id': 'P-1', 'person_name': 'Jkevin', 'email': 'jkevin.bajanavalencia@gmail.com'}, {'person_id': 'P-2', 'person_name': 'Jade', 'email': 'jade.piret@student.odisee.be'}]}}, {'group': {'group_id': 'G3', 'group_name': 'GROUP_Test2', 'members': [{'person_id': 'P-7', 'person_name': 'Jkevin2', 'email': 'jkevin.bajanavalencia@gmail.com'}]}}]}\n"
     ]
    }
   ],
   "source": [
    "groups_struc = {\n",
    " \"groups\": [\n",
    "      { \"group\": { \"group_id\": \"G1\" , \"group_name\": \"GROUP_Test1\" ,    \n",
    "                   \"members\": [   \n",
    "                     {\"person_id\": \"P-1\" , \"person_name\": \"Jkevin\", \"email\": \"jkevin.bajanavalencia@gmail.com\"},\n",
    "                     {\"person_id\": \"P-2\" , \"person_name\": \"Jade\", \"email\": \"jade.piret@student.odisee.be\"},\n",
    "                   ]\n",
    "                 }\n",
    "      },\n",
    "      { \"group\": { \"group_id\": \"G3\" , \"group_name\": \"GROUP_Test2\" ,    \n",
    "                   \"members\": [   \n",
    "                     {\"person_id\": \"P-7\" ,\"person_name\": \"Jkevin2\", \"email\": \"jkevin.bajanavalencia@gmail.com\"},  \n",
    "                   ] \n",
    "                 }\n",
    "      }\n",
    "   ]\n",
    "}\n",
    "print(groups_struc)"
   ]
  },
  {
   "cell_type": "code",
   "execution_count": 5,
   "id": "27facdae-e8fe-40d9-aa72-1899abe06896",
   "metadata": {},
   "outputs": [
    {
     "name": "stdout",
     "output_type": "stream",
     "text": [
      "Creating ... GROUP_Test1\n",
      "Creating ... GROUP_Test2\n"
     ]
    }
   ],
   "source": [
    "url = 'https://api.ciscospark.com/v1/rooms'\n",
    "\n",
    "headers = {'Authorization': 'Bearer {}'.format(access_token),'Content-Type': 'application/json' }\n",
    "for rec in groups_struc[\"groups\"]:\n",
    "    create_group_name = rec[\"group\"][\"group_name\"]\n",
    "    print(\"Creating ... \" + create_group_name)\n",
    "    payload_space={\"title\": create_group_name}\n",
    "    res_space = requests.post(url, headers=headers, json=payload_space)\n",
    "\n",
    "    NEW_SPACE_ID = res_space.json()[\"id\"]\n",
    "    for mbr in rec[\"group\"][\"members\"]:\n",
    "        room_id = NEW_SPACE_ID\n",
    "        person_email = mbr[\"email\"] \n",
    "        url2 = 'https://api.ciscospark.com/v1/memberships'\n",
    "        payload_member = {'roomId': room_id, 'personEmail': person_email}\n",
    "        res_member = requests.post(url2, headers=headers, json=payload_member)"
   ]
  }
 ],
 "metadata": {
  "kernelspec": {
   "display_name": "Python 3 (ipykernel)",
   "language": "python",
   "name": "python3"
  },
  "language_info": {
   "codemirror_mode": {
    "name": "ipython",
    "version": 3
   },
   "file_extension": ".py",
   "mimetype": "text/x-python",
   "name": "python",
   "nbconvert_exporter": "python",
   "pygments_lexer": "ipython3",
   "version": "3.12.3"
  }
 },
 "nbformat": 4,
 "nbformat_minor": 5
}
