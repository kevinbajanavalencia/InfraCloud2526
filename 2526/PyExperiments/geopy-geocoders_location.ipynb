{
 "cells": [
  {
   "cell_type": "code",
   "execution_count": 1,
   "id": "7f654a70-d3e2-4ef3-88c0-9fced6251997",
   "metadata": {},
   "outputs": [
    {
     "name": "stdout",
     "output_type": "stream",
     "text": [
      "Bruxelles - Brussel, Brussel-Hoofdstad - Bruxelles-Capitale, Région de Bruxelles-Capitale - Brussels Hoofdstedelijk Gewest, België / Belgique / Belgien\n",
      "(50.8465573, 4.351697)\n"
     ]
    }
   ],
   "source": [
    "from geopy.geocoders import Nominatim\n",
    "import folium\n",
    "#\n",
    "geolocator = Nominatim(user_agent=\"http://biasc.be\")\n",
    "#### Enter city and country\n",
    "city_country = \"Brussels, Belgium\"\n",
    "####\n",
    "location = geolocator.geocode(city_country)\n",
    "print(location.address)\n",
    "devnet_lat = location.latitude\n",
    "devnet_lon = location.longitude\n",
    "print((devnet_lat, devnet_lon))\n",
    "#\n",
    "coordinates = [devnet_lat,devnet_lon]\n",
    "map = folium.Map(location=coordinates, tiles='OpenStreetMap',  zoom_start=12)\n",
    "map\n",
    "# save method of Map object will create a map\n",
    "# saved in Downloads\n",
    "map.save(\"geopy_location.html\")"
   ]
  },
  {
   "cell_type": "code",
   "execution_count": null,
   "id": "ab480ddd-28a2-41da-a64a-1b4bad964526",
   "metadata": {},
   "outputs": [],
   "source": []
  }
 ],
 "metadata": {
  "kernelspec": {
   "display_name": "Python 3 (ipykernel)",
   "language": "python",
   "name": "python3"
  },
  "language_info": {
   "codemirror_mode": {
    "name": "ipython",
    "version": 3
   },
   "file_extension": ".py",
   "mimetype": "text/x-python",
   "name": "python",
   "nbconvert_exporter": "python",
   "pygments_lexer": "ipython3",
   "version": "3.12.3"
  }
 },
 "nbformat": 4,
 "nbformat_minor": 5
}
